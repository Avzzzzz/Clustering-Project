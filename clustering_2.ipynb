{
 "cells": [
  {
   "cell_type": "code",
   "execution_count": 28,
   "id": "87559b2c-1b78-4891-a873-8cea0e1a00d1",
   "metadata": {},
   "outputs": [],
   "source": [
    "#import lib\n",
    "import numpy as np\n",
    "import pandas as pd\n",
    "import tensorflow as tf\n",
    "from tensorflow import keras\n",
    "import matplotlib.pyplot as plt\n",
    "from sklearn.cluster import KMeans\n",
    "from sklearn.metrics import silhouette_score\n",
    "import cv2\n",
    "import os,glob,shutil\n",
    "import PIL\n",
    "from tensorflow.keras import layers\n",
    "from tensorflow.keras.models import Sequential\n",
    "import pathlib"
   ]
  },
  {
   "cell_type": "code",
   "execution_count": 53,
   "id": "de16063f-b818-492c-aa7a-1df46db71fa1",
   "metadata": {},
   "outputs": [
    {
     "name": "stdout",
     "output_type": "stream",
     "text": [
      "300\n"
     ]
    }
   ],
   "source": [
    "input_dir = './Images_2'\n",
    "global_dir = input_dir + '/*.png'\n",
    "#to locate all files in directory\n",
    "temp = glob.glob(global_dir)\n",
    "#print num of images in that folder\n",
    "print(len(temp))"
   ]
  },
  {
   "cell_type": "code",
   "execution_count": 56,
   "id": "11bb4930-aef5-4fc0-bc3b-7895eb247600",
   "metadata": {},
   "outputs": [],
   "source": [
    "x = temp\n",
    "#read and resize images from selected file\n",
    "images = np.array([cv2.resize(cv2.imread(file),(128,128)) for file in x], dtype=np.float32)\n",
    "images /=30.0\n"
   ]
  },
  {
   "cell_type": "code",
   "execution_count": 57,
   "id": "a9b325c9-3fa1-4f0c-87f8-3c2264626601",
   "metadata": {},
   "outputs": [
    {
     "name": "stdout",
     "output_type": "stream",
     "text": [
      "10/10 [==============================] - 4s 273ms/step\n"
     ]
    },
    {
     "data": {
      "text/plain": [
       "(300, 20480)"
      ]
     },
     "execution_count": 57,
     "metadata": {},
     "output_type": "execute_result"
    }
   ],
   "source": [
    "\n",
    "\n",
    "#load mobilenetv2 model pre-trained on internt\n",
    "model = tf.keras.applications.MobileNetV2(input_shape=(128,128,3), include_top=False, weights=('imagenet'))\n",
    "\n",
    "#get image embeddings using the model\n",
    "embeddings = model.predict(images) #images is a numpy array of shape (n_images,128,128,3)\n",
    "\n",
    "#reshape embeddings to have one dimension per image\n",
    "embeddings = embeddings.reshape(embeddings.shape[0], -1)\n",
    "#embeddings is a numpy array of shape (n_images,embedddings_size)\n",
    "embeddings.shape"
   ]
  },
  {
   "cell_type": "code",
   "execution_count": 58,
   "id": "f7331eb1-3b95-492b-a5c2-0743b7732f2b",
   "metadata": {},
   "outputs": [
    {
     "name": "stderr",
     "output_type": "stream",
     "text": [
      "C:\\Users\\Lenovo\\AppData\\Local\\Programs\\Python\\Python311\\Lib\\site-packages\\sklearn\\cluster\\_kmeans.py:1412: FutureWarning: The default value of `n_init` will change from 10 to 'auto' in 1.4. Set the value of `n_init` explicitly to suppress the warning\n",
      "  super()._check_params_vs_input(X, default_n_init=10)\n"
     ]
    }
   ],
   "source": [
    "n_clusters = 20\n",
    "\n",
    "#fit kmeans model to the image embeddinsg\n",
    "\n",
    "kmeans = KMeans(n_clusters=n_clusters,verbose=0,random_state=42)\n",
    "kmeans.fit(embeddings)\n",
    "\n",
    "#make predictions using the fitted model\n",
    "cluster_labels = kmeans.predict(embeddings)"
   ]
  },
  {
   "cell_type": "code",
   "execution_count": 59,
   "id": "9c695359-0e45-46e6-964f-52cad7d917f0",
   "metadata": {},
   "outputs": [],
   "source": [
    "for i in range(n_clusters):\n",
    "    os.makedirs(\"cluster\"+str(i),exist_ok=True)\n",
    "\n",
    "#copy images to corresponding cluster directories\n",
    "for path, cluster_label in zip(temp, cluster_labels):\n",
    "    shutil.copy2(os.fsdecode(path), \"cluster\"+str(cluster_label))\n",
    "\n"
   ]
  },
  {
   "cell_type": "code",
   "execution_count": 60,
   "id": "e6a7501a-b8f5-40c4-aace-c8dc019bff2b",
   "metadata": {},
   "outputs": [],
   "source": [
    "k=20\n",
    "for i in range (k):\n",
    "    cluster_path=\"cluster\"+str(i)+'/*.png'\n",
    "    images=[cv2.imread(img_path,0) for img_path in glob.glob(cluster_path)]"
   ]
  },
  {
   "cell_type": "code",
   "execution_count": null,
   "id": "056b71eb-b005-4fb8-aa8b-02a6c9938f6e",
   "metadata": {},
   "outputs": [],
   "source": []
  },
  {
   "cell_type": "code",
   "execution_count": null,
   "id": "4af0ea76-509e-4c4a-a338-62b0f29cfbbb",
   "metadata": {},
   "outputs": [],
   "source": []
  }
 ],
 "metadata": {
  "kernelspec": {
   "display_name": "Python 3 (ipykernel)",
   "language": "python",
   "name": "python3"
  },
  "language_info": {
   "codemirror_mode": {
    "name": "ipython",
    "version": 3
   },
   "file_extension": ".py",
   "mimetype": "text/x-python",
   "name": "python",
   "nbconvert_exporter": "python",
   "pygments_lexer": "ipython3",
   "version": "3.11.4"
  }
 },
 "nbformat": 4,
 "nbformat_minor": 5
}
